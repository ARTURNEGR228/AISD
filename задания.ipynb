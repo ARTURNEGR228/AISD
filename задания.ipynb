{
 "cells": [
  {
   "cell_type": "markdown",
   "metadata": {},
   "source": [
    "25.7) Класс – квадратное уравнение. Методы – расчет корней уравнения. Поля – корни уравнения, коэффициенты  𝑎 ,  𝑏 ,  𝑐 ."
   ]
  },
  {
   "cell_type": "code",
   "execution_count": 3,
   "metadata": {},
   "outputs": [
    {
     "name": "stdout",
     "output_type": "stream",
     "text": [
      "Коэффициенты уравнения: a=1.0, b=4.0, c=2.0\n",
      "Первый корень: -0.5857864376269049\n",
      "Второй корень: -3.414213562373095\n"
     ]
    }
   ],
   "source": [
    "import math\n",
    "class QuadraticEquation:\n",
    "    def __init__(self, a, b, c):\n",
    "        self.a = a\n",
    "        self.b = b\n",
    "        self.c = c\n",
    "        self.ans = self.calculate_ans()\n",
    "\n",
    "    def calculate_ans(self):\n",
    "        # Вычисляем дискриминант\n",
    "        D = self.b**2 - 4*self.a*self.c\n",
    "\n",
    "        # Находим корни\n",
    "        ans1 = (-self.b + math.sqrt(D)) / (2*self.a)\n",
    "        ans2 = (-self.b - math.sqrt(D)) / (2*self.a)\n",
    "\n",
    "        return ans1, ans2\n",
    "\n",
    "# Ввод коэффициентов от пользователя\n",
    "a = float(input(\"Введите коэффициент a: \"))\n",
    "b = float(input(\"Введите коэффициент b: \"))\n",
    "c = float(input(\"Введите коэффициент c: \"))\n",
    "\n",
    "# Создаем объект класса QuadraticEquation\n",
    "equation = QuadraticEquation(a, b, c)\n",
    "\n",
    "print(f\"Коэффициенты уравнения: a={equation.a}, b={equation.b}, c={equation.c}\")\n",
    "print(f\"Первый корень: {equation.ans[0]}\")\n",
    "print(f\"Второй корень: {equation.ans[1]}\")"
   ]
  },
  {
   "cell_type": "markdown",
   "metadata": {},
   "source": [
    "26.7) Составьте описание класса многочлена вида  𝑎𝑥2+𝑏𝑥+𝑐 . Включите в класс метод вывода описания многочлена на экран и метод вычисления значения многочлена для заданного аргумента, а также свойства, позволяющие: определить, имеет ли квадратное уравнение действительные корни; умножить многочлен на скаляр."
   ]
  },
  {
   "cell_type": "code",
   "execution_count": 1,
   "metadata": {},
   "outputs": [
    {
     "name": "stdout",
     "output_type": "stream",
     "text": [
      "1.0x^2 + 2.0x + 3.0\n",
      "11.0\n",
      "uravnenie ne imeet deystvitelnie corni\n"
     ]
    }
   ],
   "source": [
    "import numpy as np\n",
    "\n",
    "class Polynomial:\n",
    "    def __init__(self, a, b, c):\n",
    "        self.a = a\n",
    "        self.b = b\n",
    "        self.c = c\n",
    "\n",
    "    def __str__(self):\n",
    "        return f\"{self.a}x^2 + {self.b}x + {self.c}\"\n",
    "\n",
    "    def evaluate(self, x):\n",
    "        return self.a * x**2 + self.b * x + self.c\n",
    "\n",
    "    def has_real_roots(self):\n",
    "        discriminant = self.b**2 - 4 * self.a * self.c\n",
    "        return discriminant\n",
    "\n",
    "    def multiply(self, scalar):\n",
    "        return Polynomial(self.a * scalar, self.b * scalar, self.c * scalar)\n",
    "a = float(input(\"Введите коэффициент a: \"))\n",
    "b = float(input(\"Введите коэффициент b: \"))\n",
    "c = float(input(\"Введите коэффициент c: \"))\n",
    "x = float(input(\"Введите коэффициент x: \"))\n",
    "sc = 2\n",
    "\n",
    "polynomial = Polynomial(a, b, c)\n",
    "print(polynomial)\n",
    "\n",
    "value = polynomial.evaluate(x) \n",
    "print(value)\n",
    "\n",
    "has_real_roots = polynomial.has_real_roots()\n",
    "if has_real_roots > 0: print(f'uravnenie imeet deystvitelnie corni') \n",
    "elif has_real_roots == 0: print(f'uravnenie imeet deystvitelniy coren')\n",
    "elif has_real_roots < 0: print(f'uravnenie ne imeet deystvitelnie corni')\n",
    "\n",
    "multiplied_polynomial = polynomial.multiply(sc)\n",
    "print(f'умножение {multiplied_polynomial}')\n"
   ]
  },
  {
   "cell_type": "markdown",
   "metadata": {},
   "source": [
    "27.7) 7. Создайте класс КЛИЕНТ с методами, позволяющими вывести на экран информацию о клиентах банка, а также определить соответствие клиента критерию поиска. Создайте дочерние классы ВКЛАДЧИК (фамилия, дата открытия вклада, размер вклада, процент по вкладу), КРЕДИТОР (фамилия, дата выдачи кредита, размер кредита, процент по кредиту, остаток долга), ОРГАНИЗАЦИЯ (название, дата открытия счета, номер счета, сумма на счету) со своими методами вывода информации на экран и определения соответствия дате (открытия вклада, выдаче кредита, открытия счета). Создайте список из $n$ клиентов, выведите полную информацию из базы на экран, а также организуйте поиск клиентов, начавших сотрудничать с банком в заданную дату."
   ]
  }
 ],
 "metadata": {
  "kernelspec": {
   "display_name": "Python 3",
   "language": "python",
   "name": "python3"
  },
  "language_info": {
   "codemirror_mode": {
    "name": "ipython",
    "version": 3
   },
   "file_extension": ".py",
   "mimetype": "text/x-python",
   "name": "python",
   "nbconvert_exporter": "python",
   "pygments_lexer": "ipython3",
   "version": "3.12.0"
  }
 },
 "nbformat": 4,
 "nbformat_minor": 2
}
