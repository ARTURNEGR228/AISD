{
 "cells": [
  {
   "cell_type": "markdown",
   "metadata": {},
   "source": [
    "1) Реализовать простейший динамический массив, поддерживающий добавление элемента в конец массива при помощи метода append(e).\n",
    "Также должны поддерживаться следующие операции:\n",
    "извлечение элемента по индексу;\n",
    "устанавка нового значения по индексу;\n",
    "получение текущей длины массива.\n",
    "1.1) Добавить реализацию удаления элемента из любого места массива и поддержку корректного вывода массива при помощи функции print."
   ]
  },
  {
   "cell_type": "code",
   "execution_count": 33,
   "metadata": {},
   "outputs": [
    {
     "name": "stdout",
     "output_type": "stream",
     "text": [
      "2\n",
      "[1, 4, 3]\n",
      "[1, 3]\n"
     ]
    }
   ],
   "source": [
    "class DynamicArray:\n",
    "    def __init__(self):\n",
    "        self.array = []\n",
    "\n",
    "    def append(self, element):\n",
    "        self.array.append(element)\n",
    "\n",
    "    def __getitem__(self, index):\n",
    "        return self.array[index]\n",
    "\n",
    "    def __setitem__(self, index, value):\n",
    "        self.array[index] = value\n",
    "\n",
    "    def __len__(self):\n",
    "        return len(self.array)\n",
    "\n",
    "    def __str__(self):\n",
    "        return str(self.array)\n",
    "\n",
    "    def remove(self, index):\n",
    "        del self.array[index]\n",
    "\n",
    "\n",
    "# Тестирование\n",
    "array = DynamicArray()\n",
    "array.append(1)\n",
    "array.append(2)\n",
    "array.append(3)\n",
    "\n",
    "print(array[1])  # 2\n",
    "array[1] = 4\n",
    "print(array)  # [1, 4, 3]\n",
    "array.remove(1)\n",
    "print(array)  # [1, 3]\n"
   ]
  },
  {
   "cell_type": "markdown",
   "metadata": {},
   "source": [
    "2) Реализовать генератор, который возвращает значение поочередно извлекаемое из конца двух очередей (в качестве очереди используется deque из collections). Если очередь из которой извлекается элемент пуста - генератор заканчивает работу.\n"
   ]
  },
  {
   "cell_type": "code",
   "execution_count": 34,
   "metadata": {},
   "outputs": [
    {
     "name": "stdout",
     "output_type": "stream",
     "text": [
      "5\n",
      "6\n",
      "3\n",
      "4\n",
      "1\n",
      "2\n"
     ]
    }
   ],
   "source": [
    "from collections import deque\n",
    "\n",
    "def merge_queues(queue1, queue2):\n",
    "    while queue1 or queue2:\n",
    "        if queue1:\n",
    "            yield queue1.pop()\n",
    "        if queue2:\n",
    "            yield queue2.pop()\n",
    "\n",
    "\n",
    "# Тестирование\n",
    "queue1 = deque([1, 3, 5])\n",
    "queue2 = deque([2, 4, 6])\n",
    "\n",
    "for element in merge_queues(queue1, queue2):\n",
    "    print(element)  # 6 5 4 3 2 1\n"
   ]
  },
  {
   "cell_type": "markdown",
   "metadata": {},
   "source": [
    "3) Реализовать классы с медодом action():\n",
    "а) Класс Pump - в методе action() извлекает очередное значение из генератора и помещает значение в очередь (очередь передается в конструктор).\n"
   ]
  },
  {
   "cell_type": "code",
   "execution_count": 35,
   "metadata": {},
   "outputs": [
    {
     "name": "stdout",
     "output_type": "stream",
     "text": [
      "Value 0 put into the queue\n",
      "Value 1 put into the queue\n",
      "Value 2 put into the queue\n",
      "Generator is exhausted\n"
     ]
    }
   ],
   "source": [
    "from queue import Queue\n",
    "\n",
    "class Pump:\n",
    "    def __init__(self, queue, generator):\n",
    "        self.queue = queue\n",
    "        self.generator = generator\n",
    "\n",
    "    def action(self):\n",
    "        try:\n",
    "            value = next(self.generator)\n",
    "            self.queue.put(value)\n",
    "            print(f\"Value {value} put into the queue\")\n",
    "        except StopIteration:\n",
    "            print(\"Generator is exhausted\")\n",
    "\n",
    "queue1 = Queue()\n",
    "generator1 = (x for x in range(3))\n",
    "pump1 = Pump(queue1, generator1)\n",
    "\n",
    "pump1.action()\n",
    "pump1.action()\n",
    "pump1.action()\n",
    "pump1.action()  \n"
   ]
  },
  {
   "cell_type": "markdown",
   "metadata": {},
   "source": [
    "3) Реализовать классы с медодом action():\n",
    "b) Класс MultiAction - при вызове метода action() n раз вызвает метод action() класса, переданного в конструкторе. Число n также определяется в конструкторе."
   ]
  },
  {
   "cell_type": "code",
   "execution_count": 36,
   "metadata": {},
   "outputs": [
    {
     "name": "stdout",
     "output_type": "stream",
     "text": [
      "Action performed\n",
      "Action performed\n",
      "Action performed\n"
     ]
    }
   ],
   "source": [
    "class MultiAction:\n",
    "    def __init__(self, obj, n):\n",
    "        self.obj = obj\n",
    "        self.n = n\n",
    "\n",
    "    def action(self):\n",
    "        for _ in range(self.n):\n",
    "            self.obj.action()\n",
    "\n",
    "# Пример использования класса MultiAction\n",
    "class MyClass:\n",
    "    def action(self):\n",
    "        print(\"Action performed\")\n",
    "\n",
    "obj = MyClass()\n",
    "multi_action = MultiAction(obj, 3)\n",
    "\n",
    "multi_action.action()\n"
   ]
  },
  {
   "cell_type": "markdown",
   "metadata": {},
   "source": [
    "3) Реализовать классы с медодом action():\n",
    "c) Класс MultiPump - в методе action() извлекает очередное значение из генератора и помещает значение в одну из очередей (очереди передается в конструкторе); очереди , в которые помещаются очередные значения, меняются по порядку."
   ]
  },
  {
   "cell_type": "code",
   "execution_count": 37,
   "metadata": {},
   "outputs": [
    {
     "name": "stdout",
     "output_type": "stream",
     "text": [
      "deque([0])\n",
      "deque([1])\n"
     ]
    }
   ],
   "source": [
    "from collections import deque\n",
    "\n",
    "class MultiPump:\n",
    "    def __init__(self, generator, queues):\n",
    "        self.generator = generator\n",
    "        self.queues = queues\n",
    "        self.current_queue_index = 0\n",
    "\n",
    "    def action(self):\n",
    "        try:\n",
    "            value = next(self.generator)\n",
    "            self.queues[self.current_queue_index].append(value)\n",
    "            self.current_queue_index = (self.current_queue_index + 1) % len(self.queues)\n",
    "        except StopIteration:\n",
    "            pass\n",
    "\n",
    "\n",
    "# Тестирование\n",
    "generator = (i for i in range(5))\n",
    "queue1 = deque()\n",
    "queue2 = deque()\n",
    "\n",
    "multi_pump = MultiPump(generator, [queue1, queue2])\n",
    "\n",
    "multi_pump.action()\n",
    "multi_pump.action()\n",
    "\n",
    "print(queue1)  # [0, 2]\n",
    "print(queue2)  # [1, 3]\n"
   ]
  },
  {
   "cell_type": "markdown",
   "metadata": {},
   "source": [
    "4) При помощи GenFromQ, Pump реализовать систему опработки сообщений. Сообщения создаются генератором сообщений возвращающим случайным образорм одно из сообщений. Сообщения из трех генераторов закачиваются в три очереди при помощи классов Pump, далее при помощи GenFromQ и Pump объединяются в одну очередь и выводятся на экран (можно реализовать при помощи класса с action и вызываемого при помощи MultiPump).\n"
   ]
  },
  {
   "cell_type": "code",
   "execution_count": 38,
   "metadata": {},
   "outputs": [
    {
     "name": "stdout",
     "output_type": "stream",
     "text": [
      "Message 1\n",
      "Message 1\n",
      "Message 2\n",
      "Message 3\n",
      "Message 1\n",
      "Message 1\n",
      "Message 1\n",
      "Message 1\n",
      "Message 3\n",
      "Message 2\n",
      "Message 2\n",
      "Message 3\n",
      "Message 2\n",
      "Message 2\n",
      "Message 1\n"
     ]
    }
   ],
   "source": [
    "import random\n",
    "import time\n",
    "from queue import Queue\n",
    "\n",
    "class MessageGenerator:\n",
    "    def generate_message(self):\n",
    "        messages = [\"Message 1\", \"Message 2\", \"Message 3\"]\n",
    "        return random.choice(messages)\n",
    "\n",
    "class GenFromQ:\n",
    "    def __init__(self, generator, queue):\n",
    "        self.generator = generator\n",
    "        self.queue = queue\n",
    "\n",
    "    def action(self):\n",
    "        message = self.generator.generate_message()\n",
    "        self.queue.put(message)\n",
    "\n",
    "class Pump:\n",
    "    def __init__(self, queue):\n",
    "        self.queue = queue\n",
    "\n",
    "    def action(self):\n",
    "        while not self.queue.empty():\n",
    "            message = self.queue.get()\n",
    "            print(message)\n",
    "\n",
    "class MultiPump:\n",
    "    def __init__(self, pumps):\n",
    "        self.pumps = pumps\n",
    "\n",
    "    def action(self):\n",
    "        for pump in self.pumps:\n",
    "            pump.action()\n",
    "\n",
    "# Создание генераторов сообщений и очередей\n",
    "generator1 = MessageGenerator()\n",
    "generator2 = MessageGenerator()\n",
    "generator3 = MessageGenerator()\n",
    "\n",
    "queue1 = Queue()\n",
    "queue2 = Queue()\n",
    "queue3 = Queue()\n",
    "\n",
    "# Создание объектов GenFromQ и Pump для каждого генератора и очереди\n",
    "gen_from_q1 = GenFromQ(generator1, queue1)\n",
    "gen_from_q2 = GenFromQ(generator2, queue2)\n",
    "gen_from_q3 = GenFromQ(generator3, queue3)\n",
    "\n",
    "pump1 = Pump(queue1)\n",
    "pump2 = Pump(queue2)\n",
    "pump3 = Pump(queue3)\n",
    "\n",
    "# Объединение всех Pump в один MultiPump\n",
    "multi_pump = MultiPump([pump1, pump2, pump3])\n",
    "\n",
    "# Запуск генерации сообщений и их вывод на экран\n",
    "for _ in range(5):  # Генерируем и выводим 5 сообщений\n",
    "    gen_from_q1.action()\n",
    "    gen_from_q2.action()\n",
    "    gen_from_q3.action()\n",
    "    multi_pump.action()\n",
    "\n",
    "\n"
   ]
  }
 ],
 "metadata": {
  "kernelspec": {
   "display_name": "Python 3",
   "language": "python",
   "name": "python3"
  },
  "language_info": {
   "codemirror_mode": {
    "name": "ipython",
    "version": 3
   },
   "file_extension": ".py",
   "mimetype": "text/x-python",
   "name": "python",
   "nbconvert_exporter": "python",
   "pygments_lexer": "ipython3",
   "version": "3.12.0"
  }
 },
 "nbformat": 4,
 "nbformat_minor": 2
}
